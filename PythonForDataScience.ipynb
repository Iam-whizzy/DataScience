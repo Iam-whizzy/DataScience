{
  "nbformat": 4,
  "nbformat_minor": 0,
  "metadata": {
    "colab": {
      "provenance": [],
      "authorship_tag": "ABX9TyNovNmWjMfPYZdOemlGqsFJ",
      "include_colab_link": true
    },
    "kernelspec": {
      "name": "python3",
      "display_name": "Python 3"
    },
    "language_info": {
      "name": "python"
    }
  },
  "cells": [
    {
      "cell_type": "markdown",
      "metadata": {
        "id": "view-in-github",
        "colab_type": "text"
      },
      "source": [
        "<a href=\"https://colab.research.google.com/github/Iam-whizzy/PythonforDataScience/blob/main/PythonForDataScience.ipynb\" target=\"_parent\"><img src=\"https://colab.research.google.com/assets/colab-badge.svg\" alt=\"Open In Colab\"/></a>"
      ]
    },
    {
      "cell_type": "code",
      "execution_count": null,
      "metadata": {
        "colab": {
          "base_uri": "https://localhost:8080/"
        },
        "id": "yrUqnYtFAFk8",
        "outputId": "0956480d-c2e4-469b-b5ca-8dd3d6cb2d1b"
      },
      "outputs": [
        {
          "output_type": "stream",
          "name": "stdout",
          "text": [
            "6\n"
          ]
        }
      ],
      "source": [
        "#BUIDING BLOCKS IN PROGRAMMING\n",
        "# 1. VARIABLES\n",
        "# 2. DATATYPES\n",
        "# 3. DECISION MAKING\n",
        "# 4. LOOPING/ ITERATION\n",
        "# 5. FUNCTIONS\n",
        "\n",
        "# 6. OOP\n",
        "# 7. EXCEPTION HANDLING\n",
        "\n",
        "print (5^3)\n"
      ]
    },
    {
      "cell_type": "code",
      "source": [
        "#simple interest program\n",
        "#algorithm:\n",
        "\n",
        "principle = int(input(\"Enter the amount that you want to deposit\"))\n",
        "time = int(input(\"Enter the number of years you want to save\"))\n",
        "rate = 0.05\n",
        "\n",
        "simple_interest = float(principle * rate * time)\n",
        "\n",
        "print (f\"your simple interest amount is {simple_interest} after {time} years\")\n"
      ],
      "metadata": {
        "colab": {
          "base_uri": "https://localhost:8080/"
        },
        "id": "q6LN9CFTUSzx",
        "outputId": "bf2bd525-a946-4cdf-b2de-ff3db5b9f27d"
      },
      "execution_count": null,
      "outputs": [
        {
          "output_type": "stream",
          "name": "stdout",
          "text": [
            "Enter the amount that you want to deposit14000\n",
            "Enter the number of years you want to save13\n",
            "your simple interest amount is 9100.0 after 13 years\n"
          ]
        }
      ]
    },
    {
      "cell_type": "code",
      "source": [
        "#area of a rectangle\n",
        "\n",
        "length = 14\n",
        "width = 20\n",
        "\n",
        "area = length * width\n",
        "\n",
        "print (f\"The area of a rectangle whose length: {length}cm and width: {width}cm is {area}cm squared \")"
      ],
      "metadata": {
        "colab": {
          "base_uri": "https://localhost:8080/"
        },
        "id": "AanjEJ6gXE_d",
        "outputId": "ccfc8c7b-ce7c-4517-fd91-508eae815e22"
      },
      "execution_count": null,
      "outputs": [
        {
          "output_type": "stream",
          "name": "stdout",
          "text": [
            "The area of a rectangle whose length: 14cm and width: 20cm is 280cm squared \n"
          ]
        }
      ]
    },
    {
      "cell_type": "code",
      "source": [
        "#In hospital, we calculate BMI\n",
        "#request for weight(kg)\n",
        "#request for height(m)\n",
        "#apply the formula: weight/ (height**2)\n",
        "\n",
        "weight = 60\n",
        "height = 1.72\n",
        "\n",
        "bmi = weight/ (height**2)\n",
        "\n",
        "print (f\"The bmi of a person whose weight: {weight}kg and height: {height}cm is {bmi}kg per metres sq\")"
      ],
      "metadata": {
        "colab": {
          "base_uri": "https://localhost:8080/"
        },
        "id": "niqpt8fNZTHE",
        "outputId": "960dc0a7-ac1e-4cf6-b46d-e3c404dd7d23"
      },
      "execution_count": null,
      "outputs": [
        {
          "output_type": "stream",
          "name": "stdout",
          "text": [
            "The bmi of a person whose weight: 60kg and height: 1.72cm is 20.281233098972418kg per metres sq\n"
          ]
        }
      ]
    }
  ]
}