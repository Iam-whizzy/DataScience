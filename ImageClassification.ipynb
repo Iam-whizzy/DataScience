{
  "nbformat": 4,
  "nbformat_minor": 0,
  "metadata": {
    "colab": {
      "provenance": [],
      "authorship_tag": "ABX9TyNvHqeeA3/+q5SzLnZ6RaC6",
      "include_colab_link": true
    },
    "kernelspec": {
      "name": "python3",
      "display_name": "Python 3"
    },
    "language_info": {
      "name": "python"
    }
  },
  "cells": [
    {
      "cell_type": "markdown",
      "metadata": {
        "id": "view-in-github",
        "colab_type": "text"
      },
      "source": [
        "<a href=\"https://colab.research.google.com/github/Iam-whizzy/DataScience/blob/main/ImageClassification.ipynb\" target=\"_parent\"><img src=\"https://colab.research.google.com/assets/colab-badge.svg\" alt=\"Open In Colab\"/></a>"
      ]
    },
    {
      "cell_type": "code",
      "execution_count": 2,
      "metadata": {
        "id": "iCAQpLeYDvZH"
      },
      "outputs": [],
      "source": [
        "# Computer vision: Artificial Intelligence where machines can classify an image\n",
        "# Convolutional Layers: Image Processing\n",
        "# ANN\n",
        "# Dataset: Cifar10 ->"
      ]
    },
    {
      "cell_type": "code",
      "source": [
        "from keras import datasets, layers, models"
      ],
      "metadata": {
        "id": "6xQGfTVMHRDJ"
      },
      "execution_count": null,
      "outputs": []
    }
  ]
}