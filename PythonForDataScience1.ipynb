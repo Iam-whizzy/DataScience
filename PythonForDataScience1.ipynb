{
  "nbformat": 4,
  "nbformat_minor": 0,
  "metadata": {
    "colab": {
      "provenance": [],
      "include_colab_link": true
    },
    "kernelspec": {
      "name": "python3",
      "display_name": "Python 3"
    },
    "language_info": {
      "name": "python"
    }
  },
  "cells": [
    {
      "cell_type": "markdown",
      "metadata": {
        "id": "view-in-github",
        "colab_type": "text"
      },
      "source": [
        "<a href=\"https://colab.research.google.com/github/Iam-whizzy/PythonforDataScience/blob/main/PythonForDataScience1.ipynb\" target=\"_parent\"><img src=\"https://colab.research.google.com/assets/colab-badge.svg\" alt=\"Open In Colab\"/></a>"
      ]
    },
    {
      "cell_type": "code",
      "execution_count": null,
      "metadata": {
        "colab": {
          "base_uri": "https://localhost:8080/"
        },
        "id": "ucEW2BNBAATU",
        "outputId": "7eb7d331-bd47-4904-ec4b-f5f177f7cd81"
      },
      "outputs": [
        {
          "output_type": "stream",
          "name": "stdout",
          "text": [
            "Welcome to Python\n"
          ]
        }
      ],
      "source": [
        "print(\"Welcome to Python\")\n"
      ]
    },
    {
      "cell_type": "code",
      "source": [
        "# print(\"Hello\")\n",
        "# This is Comment: Ignored by the Interpreter\n",
        "# We use for code readability\n",
        "\n",
        "# BUILDING BLOCKS IN PROGRAMMING\n",
        "# 1. VARIABLES\n",
        "# 2. DATA TYPES\n",
        "# 3,DECISION MAKING\n",
        "# 4. LOOPING/ITERATION\n",
        "# 5. FUNCTIONS\n",
        "\n",
        "# 6. OBJECT ORIENTED PROGRAMMING\n",
        "# 7. EXCEPTION HANDLING"
      ],
      "metadata": {
        "id": "qVVKLLC9AtfH"
      },
      "execution_count": null,
      "outputs": []
    },
    {
      "cell_type": "code",
      "source": [
        "# Variables: Container that stores a value in program\n",
        "heading ='This is my Heading'\n",
        "age = 34\n",
        "header = 'heading'\n",
        "\n",
        "# print(): A function specifically for outputting values\n",
        "print(heading)\n",
        "print(header)\n",
        "print(age)\n",
        "\n",
        "# Any name/label used to store values\n",
        "# Naming Guidelines\n",
        "# 1. No spacing instead use underscore\n",
        "stock_price = 500\n",
        "# 2. Start with small letters\n",
        "database_connection = \"My connection\"\n",
        "print(database_connection)\n",
        "\n",
        "# Cannot strat with a number but can end with it\n",
        "number1 = 40\n",
        "\n",
        "# Cannot be a keyword(name with  a special meaning), e,g break, for, if, while, try, except\n",
        "# Case Sensitive: Check the cases\n",
        "\n",
        "my_name  =  \"Erick\"\n",
        "print(my_name)\n",
        "\n",
        "# Relevant to the context\n",
        "password = \"12345678\"\n",
        "\n",
        "# Number(no double quotes/single)\n",
        "# Text(double)\n",
        "\n",
        "\n",
        "\n",
        "\n"
      ],
      "metadata": {
        "colab": {
          "base_uri": "https://localhost:8080/"
        },
        "id": "rcloEPjpEHIe",
        "outputId": "dfd7e57f-3a70-46f7-9f94-7189676ae3ed"
      },
      "execution_count": null,
      "outputs": [
        {
          "output_type": "stream",
          "name": "stdout",
          "text": [
            "This is my Heading\n",
            "heading\n",
            "34\n",
            "My connection\n",
            "Erick\n"
          ]
        }
      ]
    },
    {
      "cell_type": "code",
      "source": [
        "# Operators: Symbols used to perform arithmetic and logical operations\n",
        "# Arithmetic Operaors: +, -, *, /\n",
        "first_value = 50\n",
        "second_value = 50\n",
        "sum = first_value /  second_value\n",
        "print(f\"The sum is {sum}\")"
      ],
      "metadata": {
        "colab": {
          "base_uri": "https://localhost:8080/"
        },
        "id": "V62s-SMlPONW",
        "outputId": "6f57df23-3d57-476a-a415-16bd6b56144a"
      },
      "execution_count": null,
      "outputs": [
        {
          "output_type": "stream",
          "name": "stdout",
          "text": [
            "The sum is 1.0\n"
          ]
        }
      ]
    },
    {
      "cell_type": "code",
      "source": [
        "# Modulus(%)\n",
        "\n",
        "print(10 % 5)"
      ],
      "metadata": {
        "colab": {
          "base_uri": "https://localhost:8080/"
        },
        "id": "G83Vb8CESwO7",
        "outputId": "ddbf3ef6-217e-408f-d4fc-adc6829d5501"
      },
      "execution_count": null,
      "outputs": [
        {
          "output_type": "stream",
          "name": "stdout",
          "text": [
            "0\n"
          ]
        }
      ]
    },
    {
      "cell_type": "code",
      "source": [
        "# Exponential (**)\n",
        "print(5 ** 5)"
      ],
      "metadata": {
        "colab": {
          "base_uri": "https://localhost:8080/"
        },
        "id": "NlybHXRfTaCq",
        "outputId": "66071ca5-3b51-4f59-c2b8-274460ac52a4"
      },
      "execution_count": null,
      "outputs": [
        {
          "output_type": "stream",
          "name": "stdout",
          "text": [
            "3125\n"
          ]
        }
      ]
    },
    {
      "cell_type": "code",
      "source": [
        "# Simple Interest Program\n",
        "# Algorithm:\n",
        "# store principal(amount deposited)\n",
        "# store the rate(percentage)\n",
        "# store time(duration)\n",
        "# apply the formula: principal * rate * time\n",
        "\n",
        "principal = 70000\n",
        "rate = 0.04\n",
        "time = 6\n",
        "\n",
        "interest = principal * rate * time\n",
        "print(f\"The Interest of depositing {principal} with rate of {rate} percent in {time} years is {interest}\")"
      ],
      "metadata": {
        "colab": {
          "base_uri": "https://localhost:8080/"
        },
        "id": "YDGLlGwpURoD",
        "outputId": "d22c4aa1-d04f-4d27-ae19-e2bbd252b66b"
      },
      "execution_count": null,
      "outputs": [
        {
          "output_type": "stream",
          "name": "stdout",
          "text": [
            "The interest of depositing 70000 with rate of 0.04 percent in 6 years is 16800.0\n"
          ]
        }
      ]
    },
    {
      "cell_type": "code",
      "source": [
        "# Area of Rectangle:\n",
        "# length\n",
        "# width\n",
        "# apply : length * width\n",
        "# Report the result in a Descriptive manner\n",
        "\n",
        "length = 34\n",
        "width = 10\n",
        "area = length * width\n",
        "print(f\"The area of rectangle {length}cm length and {width}cm width is {area}square cent..\")\n",
        "\n"
      ],
      "metadata": {
        "colab": {
          "base_uri": "https://localhost:8080/"
        },
        "id": "e8cPPd6sXDjZ",
        "outputId": "6a5dc2c6-f924-4b46-96d5-165d333586b3"
      },
      "execution_count": null,
      "outputs": [
        {
          "output_type": "stream",
          "name": "stdout",
          "text": [
            "The area of rectangle 34cm length and 10cm width is 340square cent..\n"
          ]
        }
      ]
    },
    {
      "cell_type": "code",
      "source": [
        "# In hospital, we calculate BMI\n",
        "# request for weight(kg)\n",
        "# request for height(m)\n",
        "# apply: weight / (height * height)\n",
        "\n"
      ],
      "metadata": {
        "id": "UOO34lcPZODu"
      },
      "execution_count": null,
      "outputs": []
    }
  ]
}